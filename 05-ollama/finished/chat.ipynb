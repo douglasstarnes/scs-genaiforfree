{
 "cells": [
  {
   "cell_type": "code",
   "execution_count": 1,
   "id": "439c5330",
   "metadata": {},
   "outputs": [],
   "source": [
    "from ollama import chat, ChatResponse"
   ]
  },
  {
   "cell_type": "code",
   "execution_count": 2,
   "id": "03c07e5c",
   "metadata": {},
   "outputs": [],
   "source": [
    "messages = [\n",
    "    {\n",
    "        \"role\": \"user\",\n",
    "        \"content\": \"I ordered the wrong item. How can I get a refund?\"\n",
    "    }\n",
    "]"
   ]
  },
  {
   "cell_type": "code",
   "execution_count": 5,
   "id": "911fafce",
   "metadata": {},
   "outputs": [],
   "source": [
    "response: ChatResponse = chat(\n",
    "    \"customer_service\",\n",
    "    messages=messages,\n",
    "    stream=True\n",
    ")"
   ]
  },
  {
   "cell_type": "code",
   "execution_count": 6,
   "id": "569d32cf",
   "metadata": {},
   "outputs": [
    {
     "name": "stdout",
     "output_type": "stream",
     "text": [
      "Sorry to hear that you received the wrong item. Don't worry, we'd be happy to help you with a refund.\n",
      "\n",
      "To initiate the process, could you please provide me with your order number or some details about your order, such as the date it was placed and the items you ordered? This will help me look into this for you.\n",
      "\n",
      "If you're not sure what to do or need more information, I can walk you through the steps. Alternatively, if you'd prefer to speak with someone directly, I'm here to assist you.\n",
      "\n",
      "In terms of refunds, we typically process them within 3-5 business days after receiving your request. If there are any issues with processing the refund, I'll let you know and work with our team to resolve it as quickly as possible.\n",
      "\n",
      "Would you like me to expedite this process for you?"
     ]
    }
   ],
   "source": [
    "for chunk in response:\n",
    "    print(chunk[\"message\"][\"content\"], end=\"\", flush=True)"
   ]
  },
  {
   "cell_type": "code",
   "execution_count": null,
   "id": "78598b46",
   "metadata": {},
   "outputs": [],
   "source": []
  }
 ],
 "metadata": {
  "kernelspec": {
   "display_name": "Python 3",
   "language": "python",
   "name": "python3"
  },
  "language_info": {
   "codemirror_mode": {
    "name": "ipython",
    "version": 3
   },
   "file_extension": ".py",
   "mimetype": "text/x-python",
   "name": "python",
   "nbconvert_exporter": "python",
   "pygments_lexer": "ipython3",
   "version": "3.12.1"
  }
 },
 "nbformat": 4,
 "nbformat_minor": 5
}
