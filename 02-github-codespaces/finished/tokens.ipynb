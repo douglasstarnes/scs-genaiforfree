{
 "cells": [
  {
   "cell_type": "code",
   "execution_count": 1,
   "id": "0d545329",
   "metadata": {},
   "outputs": [],
   "source": [
    "import tiktoken"
   ]
  },
  {
   "cell_type": "code",
   "execution_count": 2,
   "id": "eb6d8192",
   "metadata": {},
   "outputs": [],
   "source": [
    "text = \"\"\"\n",
    "Generative AI is rapidly changing how we approach work, creativity, and problem-solving across industries. By enabling machines to produce human-like text, images, and code, it reduces the time required for content creation and streamlines complex tasks. From personalized tutoring in education to accelerated software development, its applications are expanding daily. However, this power also brings challenges, including ethical concerns, misinformation risks, and job displacement, requiring thoughtful adoption and responsible integration into real-world workflows and decision-making.\n",
    "\"\"\""
   ]
  },
  {
   "cell_type": "code",
   "execution_count": 7,
   "id": "2d12698c",
   "metadata": {},
   "outputs": [
    {
     "name": "stdout",
     "output_type": "stream",
     "text": [
      "[198, 8645, 876, 9552, 318, 8902, 5609, 703, 356, 3164, 670, 11, 16389, 11, 290, 1917, 12, 82, 10890, 1973, 11798, 13, 2750, 15882, 8217, 284, 4439, 1692, 12, 2339, 2420, 11, 4263, 11, 290, 2438, 11, 340, 12850, 262, 640, 2672, 329, 2695, 6282, 290, 4269, 6615, 3716, 8861, 13, 3574, 28949, 9732, 3255, 287, 3707, 284, 23312, 3788, 2478, 11, 663, 5479, 389, 11581, 4445, 13, 2102, 11, 428, 1176, 635, 6774, 6459, 11, 1390, 15028, 4786, 11, 32805, 7476, 11, 290, 1693, 29358, 11, 10616, 22677, 12695, 290, 4497, 11812, 656, 1103, 12, 6894, 670, 44041, 290, 2551, 12, 8601, 13, 198]\n"
     ]
    }
   ],
   "source": [
    "enc = tiktoken.get_encoding(\"p50k_base\")\n",
    "tokens = enc.encode(text)\n",
    "print(tokens)"
   ]
  },
  {
   "cell_type": "code",
   "execution_count": 8,
   "id": "91ea2ae8",
   "metadata": {},
   "outputs": [
    {
     "name": "stdout",
     "output_type": "stream",
     "text": [
      "The text has 75 words\n",
      "This was converted into 105 tokens\n",
      "Ratio of words to tokens: 0.7142857142857143\n"
     ]
    }
   ],
   "source": [
    "no_words = len(text.split(\" \"))\n",
    "print(f\"The text has {no_words} words\")\n",
    "print(f\"This was converted into {len(tokens)} tokens\")\n",
    "print(f\"Ratio of words to tokens: {no_words / len(tokens)}\")"
   ]
  },
  {
   "cell_type": "code",
   "execution_count": null,
   "id": "9fce16c9",
   "metadata": {},
   "outputs": [],
   "source": []
  }
 ],
 "metadata": {
  "kernelspec": {
   "display_name": "Python 3",
   "language": "python",
   "name": "python3"
  },
  "language_info": {
   "codemirror_mode": {
    "name": "ipython",
    "version": 3
   },
   "file_extension": ".py",
   "mimetype": "text/x-python",
   "name": "python",
   "nbconvert_exporter": "python",
   "pygments_lexer": "ipython3",
   "version": "3.12.1"
  }
 },
 "nbformat": 4,
 "nbformat_minor": 5
}
